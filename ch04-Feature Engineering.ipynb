{
 "cells": [
  {
   "cell_type": "markdown",
   "metadata": {},
   "source": [
    "## **Feature Engineering**\n",
    "***Process of creating new features or transforming your existing features to get the most out of your data.***\n",
    "<hr>\n",
    "\n",
    "> ### ***Creating New Features***\n",
    "> Here are some methods to generator new features to make our model work better and have greater insights on the data(these are only sample methods):\n",
    "> - *Length of text field*\n",
    "> - *Percentage of characters that are punctuation in the text*\n",
    "> - *Percentage of characters that are capitalized*\n",
    "> <hr>\n",
    ">\n",
    "> ## **Transformations**\n",
    "> We need to make transformation to the exsiting dataset to make the dataset better and more adaptive to our model.<br>\n",
    "> Few examples:\n",
    "> - *Power transformations* (square, square root, etc.)\n",
    "> - *Standardizing data* (log transformations, etc.) - when we have a skewed data, or too much outliers. *This helps the model to draw correlations and better understand the data, without trying to overfit the data, also helps in model optimization.\n",
    "\n",
    "<hr>\n",
    "\n",
    "> ***Feature Creation***"
   ]
  },
  {
   "cell_type": "code",
   "execution_count": 1,
   "metadata": {},
   "outputs": [],
   "source": [
    "# Read in raw text\n",
    "import pandas as pd\n",
    "\n",
    "data = pd.read_csv('SMSSpamCollection.tsv', sep='\\t', header=None)\n",
    "data.columns = ['label', 'text_body']"
   ]
  },
  {
   "cell_type": "code",
   "execution_count": 3,
   "metadata": {},
   "outputs": [
    {
     "data": {
      "text/html": [
       "<div>\n",
       "<style scoped>\n",
       "    .dataframe tbody tr th:only-of-type {\n",
       "        vertical-align: middle;\n",
       "    }\n",
       "\n",
       "    .dataframe tbody tr th {\n",
       "        vertical-align: top;\n",
       "    }\n",
       "\n",
       "    .dataframe thead th {\n",
       "        text-align: right;\n",
       "    }\n",
       "</style>\n",
       "<table border=\"1\" class=\"dataframe\">\n",
       "  <thead>\n",
       "    <tr style=\"text-align: right;\">\n",
       "      <th></th>\n",
       "      <th>label</th>\n",
       "      <th>text_body</th>\n",
       "      <th>text_body_length</th>\n",
       "    </tr>\n",
       "  </thead>\n",
       "  <tbody>\n",
       "    <tr>\n",
       "      <th>0</th>\n",
       "      <td>ham</td>\n",
       "      <td>I've been searching for the right words to tha...</td>\n",
       "      <td>160</td>\n",
       "    </tr>\n",
       "    <tr>\n",
       "      <th>1</th>\n",
       "      <td>spam</td>\n",
       "      <td>Free entry in 2 a wkly comp to win FA Cup fina...</td>\n",
       "      <td>128</td>\n",
       "    </tr>\n",
       "    <tr>\n",
       "      <th>2</th>\n",
       "      <td>ham</td>\n",
       "      <td>Nah I don't think he goes to usf, he lives aro...</td>\n",
       "      <td>49</td>\n",
       "    </tr>\n",
       "    <tr>\n",
       "      <th>3</th>\n",
       "      <td>ham</td>\n",
       "      <td>Even my brother is not like to speak with me. ...</td>\n",
       "      <td>62</td>\n",
       "    </tr>\n",
       "    <tr>\n",
       "      <th>4</th>\n",
       "      <td>ham</td>\n",
       "      <td>I HAVE A DATE ON SUNDAY WITH WILL!!</td>\n",
       "      <td>28</td>\n",
       "    </tr>\n",
       "  </tbody>\n",
       "</table>\n",
       "</div>"
      ],
      "text/plain": [
       "  label                                          text_body  text_body_length\n",
       "0   ham  I've been searching for the right words to tha...               160\n",
       "1  spam  Free entry in 2 a wkly comp to win FA Cup fina...               128\n",
       "2   ham  Nah I don't think he goes to usf, he lives aro...                49\n",
       "3   ham  Even my brother is not like to speak with me. ...                62\n",
       "4   ham                I HAVE A DATE ON SUNDAY WITH WILL!!                28"
      ]
     },
     "execution_count": 3,
     "metadata": {},
     "output_type": "execute_result"
    }
   ],
   "source": [
    "# Create feature for text message length\n",
    "# Consider the hypothesis that spam messages tend to be longer than real text messages.\n",
    "\n",
    "data['text_body_len'] = data['text_body'].apply(lambda x: len(x) - x.count(' '))   # subtract white-spaces from the text\n",
    "data.head()"
   ]
  },
  {
   "cell_type": "code",
   "execution_count": 12,
   "metadata": {},
   "outputs": [
    {
     "data": {
      "text/html": [
       "<div>\n",
       "<style scoped>\n",
       "    .dataframe tbody tr th:only-of-type {\n",
       "        vertical-align: middle;\n",
       "    }\n",
       "\n",
       "    .dataframe tbody tr th {\n",
       "        vertical-align: top;\n",
       "    }\n",
       "\n",
       "    .dataframe thead th {\n",
       "        text-align: right;\n",
       "    }\n",
       "</style>\n",
       "<table border=\"1\" class=\"dataframe\">\n",
       "  <thead>\n",
       "    <tr style=\"text-align: right;\">\n",
       "      <th></th>\n",
       "      <th>label</th>\n",
       "      <th>text_body</th>\n",
       "      <th>text_body_length</th>\n",
       "      <th>punct_percent</th>\n",
       "    </tr>\n",
       "  </thead>\n",
       "  <tbody>\n",
       "    <tr>\n",
       "      <th>0</th>\n",
       "      <td>ham</td>\n",
       "      <td>I've been searching for the right words to tha...</td>\n",
       "      <td>160</td>\n",
       "      <td>2.5</td>\n",
       "    </tr>\n",
       "    <tr>\n",
       "      <th>1</th>\n",
       "      <td>spam</td>\n",
       "      <td>Free entry in 2 a wkly comp to win FA Cup fina...</td>\n",
       "      <td>128</td>\n",
       "      <td>4.7</td>\n",
       "    </tr>\n",
       "    <tr>\n",
       "      <th>2</th>\n",
       "      <td>ham</td>\n",
       "      <td>Nah I don't think he goes to usf, he lives aro...</td>\n",
       "      <td>49</td>\n",
       "      <td>4.1</td>\n",
       "    </tr>\n",
       "    <tr>\n",
       "      <th>3</th>\n",
       "      <td>ham</td>\n",
       "      <td>Even my brother is not like to speak with me. ...</td>\n",
       "      <td>62</td>\n",
       "      <td>3.2</td>\n",
       "    </tr>\n",
       "    <tr>\n",
       "      <th>4</th>\n",
       "      <td>ham</td>\n",
       "      <td>I HAVE A DATE ON SUNDAY WITH WILL!!</td>\n",
       "      <td>28</td>\n",
       "      <td>7.1</td>\n",
       "    </tr>\n",
       "  </tbody>\n",
       "</table>\n",
       "</div>"
      ],
      "text/plain": [
       "  label                                          text_body  text_body_length  \\\n",
       "0   ham  I've been searching for the right words to tha...               160   \n",
       "1  spam  Free entry in 2 a wkly comp to win FA Cup fina...               128   \n",
       "2   ham  Nah I don't think he goes to usf, he lives aro...                49   \n",
       "3   ham  Even my brother is not like to speak with me. ...                62   \n",
       "4   ham                I HAVE A DATE ON SUNDAY WITH WILL!!                28   \n",
       "\n",
       "   punct_percent  \n",
       "0            2.5  \n",
       "1            4.7  \n",
       "2            4.1  \n",
       "3            3.2  \n",
       "4            7.1  "
      ]
     },
     "execution_count": 12,
     "metadata": {},
     "output_type": "execute_result"
    }
   ],
   "source": [
    "# Create feature for % of the text that is punctuation\n",
    "# Consider the hypothesis that real text messages use less punctiation than spam\n",
    "\n",
    "import string\n",
    "\n",
    "# function for counting punctuation\n",
    "def count_punct(text):\n",
    "    count = sum([1 for charater in text if charater in string.punctuation])\n",
    "#     percent_count = len([charater for charater in text if charater in string.punctuation]) \n",
    "    return round(count / (len(text) - text.count(' ')), 3)*100\n",
    "\n",
    "# creating new feature in the dataset\n",
    "data['punct_percent'] = data['text_body'].apply(lambda x: count_punct(x))\n",
    "data.head()"
   ]
  },
  {
   "cell_type": "code",
   "execution_count": 17,
   "metadata": {},
   "outputs": [
    {
     "data": {
      "text/html": [
       "<div>\n",
       "<style scoped>\n",
       "    .dataframe tbody tr th:only-of-type {\n",
       "        vertical-align: middle;\n",
       "    }\n",
       "\n",
       "    .dataframe tbody tr th {\n",
       "        vertical-align: top;\n",
       "    }\n",
       "\n",
       "    .dataframe thead th {\n",
       "        text-align: right;\n",
       "    }\n",
       "</style>\n",
       "<table border=\"1\" class=\"dataframe\">\n",
       "  <thead>\n",
       "    <tr style=\"text-align: right;\">\n",
       "      <th></th>\n",
       "      <th>label</th>\n",
       "      <th>text_body</th>\n",
       "      <th>text_body_length</th>\n",
       "      <th>punct_percent</th>\n",
       "      <th>cap_percent</th>\n",
       "    </tr>\n",
       "  </thead>\n",
       "  <tbody>\n",
       "    <tr>\n",
       "      <th>0</th>\n",
       "      <td>ham</td>\n",
       "      <td>I've been searching for the right words to tha...</td>\n",
       "      <td>160</td>\n",
       "      <td>2.5</td>\n",
       "      <td>1.9</td>\n",
       "    </tr>\n",
       "    <tr>\n",
       "      <th>1</th>\n",
       "      <td>spam</td>\n",
       "      <td>Free entry in 2 a wkly comp to win FA Cup fina...</td>\n",
       "      <td>128</td>\n",
       "      <td>4.7</td>\n",
       "      <td>7.8</td>\n",
       "    </tr>\n",
       "    <tr>\n",
       "      <th>2</th>\n",
       "      <td>ham</td>\n",
       "      <td>Nah I don't think he goes to usf, he lives aro...</td>\n",
       "      <td>49</td>\n",
       "      <td>4.1</td>\n",
       "      <td>4.1</td>\n",
       "    </tr>\n",
       "    <tr>\n",
       "      <th>3</th>\n",
       "      <td>ham</td>\n",
       "      <td>Even my brother is not like to speak with me. ...</td>\n",
       "      <td>62</td>\n",
       "      <td>3.2</td>\n",
       "      <td>3.2</td>\n",
       "    </tr>\n",
       "    <tr>\n",
       "      <th>4</th>\n",
       "      <td>ham</td>\n",
       "      <td>I HAVE A DATE ON SUNDAY WITH WILL!!</td>\n",
       "      <td>28</td>\n",
       "      <td>7.1</td>\n",
       "      <td>92.9</td>\n",
       "    </tr>\n",
       "  </tbody>\n",
       "</table>\n",
       "</div>"
      ],
      "text/plain": [
       "  label                                          text_body  text_body_length  \\\n",
       "0   ham  I've been searching for the right words to tha...               160   \n",
       "1  spam  Free entry in 2 a wkly comp to win FA Cup fina...               128   \n",
       "2   ham  Nah I don't think he goes to usf, he lives aro...                49   \n",
       "3   ham  Even my brother is not like to speak with me. ...                62   \n",
       "4   ham                I HAVE A DATE ON SUNDAY WITH WILL!!                28   \n",
       "\n",
       "   punct_percent  cap_percent  \n",
       "0            2.5          1.9  \n",
       "1            4.7          7.8  \n",
       "2            4.1          4.1  \n",
       "3            3.2          3.2  \n",
       "4            7.1         92.9  "
      ]
     },
     "execution_count": 17,
     "metadata": {},
     "output_type": "execute_result"
    }
   ],
   "source": [
    "# Create feature for % of charaters that are capitalized\n",
    "\n",
    "import re\n",
    "\n",
    "# function for counting capital charaters\n",
    "def count_cap(text):\n",
    "    count = sum([1 for charater in text if charater.isupper()])\n",
    "    # count = len([re.findall('[A-Z]', text)])\n",
    "    return round(count / (len(text) - text.count(' ')),3)*100\n",
    "\n",
    "# create new feature in the dataset\n",
    "data['cap_percent'] = data['text_body'].apply(lambda x: count_cap(x))\n",
    "data.head()"
   ]
  },
  {
   "cell_type": "markdown",
   "metadata": {},
   "source": [
    "> ***Evaluate created features***<br>\n",
    "> Evaluate new features to see if they might be `providing any new value to the model` for distinguishing spam from non-spam<br>\n",
    "> Use overlayed histograms for this purpose"
   ]
  },
  {
   "cell_type": "code",
   "execution_count": 19,
   "metadata": {},
   "outputs": [],
   "source": [
    "# Evaluate created features\n",
    "\n",
    "import matplotlib.pyplot as plt\n",
    "import numpy as np\n",
    "%matplotlib inline"
   ]
  },
  {
   "cell_type": "code",
   "execution_count": 28,
   "metadata": {},
   "outputs": [
    {
     "name": "stderr",
     "output_type": "stream",
     "text": [
      "/home/nilesh/anaconda3/lib/python3.7/site-packages/ipykernel_launcher.py:7: MatplotlibDeprecationWarning: \n",
      "The 'normed' kwarg was deprecated in Matplotlib 2.1 and will be removed in 3.1. Use 'density' instead.\n",
      "  import sys\n",
      "/home/nilesh/anaconda3/lib/python3.7/site-packages/ipykernel_launcher.py:12: MatplotlibDeprecationWarning: \n",
      "The 'normed' kwarg was deprecated in Matplotlib 2.1 and will be removed in 3.1. Use 'density' instead.\n",
      "  if sys.path[0] == '':\n"
     ]
    },
    {
     "data": {
      "image/png": "[encoded data removed]",
      "text/plain": [
       "<Figure size 432x288 with 1 Axes>"
      ]
     },
     "metadata": {
      "needs_background": "light"
     },
     "output_type": "display_data"
    }
   ],
   "source": [
    "#evaluate 'text_body_length' feature\n",
    "\n",
    "# set bins \n",
    "bins = np.linspace(0,200,40)     # returns 40 evenly spaces numbers(40 bins) between 0 and 200. \n",
    "                                 # 0 is the starting point and 200 is the limit of max text length\n",
    "                                 # this basically determines where our cutpoints are placed for the new bins\n",
    "    \n",
    "# histogram to look at the distribution of our body length for spam\n",
    "plt.hist(data[data['label']=='spam']['text_body_length'], bins=bins, alpha=0.5, normed=True, label='spam')   \n",
    "        # alpha parameter -> how dark shoud be the plot [shading parameter]\n",
    "        # normedd parameter -> to normalize the plot to same scale\n",
    "\n",
    "# histogram to look at the distribution of out body length for non-spam\n",
    "plt.hist(data[data['label']=='ham']['text_body_length'], bins=bins, alpha=0.5, normed=True, label='ham')\n",
    "\n",
    "plt.legend(loc='upper left')\n",
    "plt.xlabel('Length of the text body')\n",
    "plt.ylabel('Number of messages')\n",
    "plt.show()"
   ]
  },
  {
   "cell_type": "markdown",
   "metadata": {},
   "source": [
    "> Thus it is evident to see that the text body length for spam messages is `significantly high` as compared to the ham messages<br>\n",
    "> *This feature will be extra helpful for the model to distinguish ham from spam*"
   ]
  },
  {
   "cell_type": "code",
   "execution_count": 29,
   "metadata": {},
   "outputs": [
    {
     "name": "stderr",
     "output_type": "stream",
     "text": [
      "/home/nilesh/anaconda3/lib/python3.7/site-packages/ipykernel_launcher.py:7: MatplotlibDeprecationWarning: \n",
      "The 'normed' kwarg was deprecated in Matplotlib 2.1 and will be removed in 3.1. Use 'density' instead.\n",
      "  import sys\n",
      "/home/nilesh/anaconda3/lib/python3.7/site-packages/ipykernel_launcher.py:10: MatplotlibDeprecationWarning: \n",
      "The 'normed' kwarg was deprecated in Matplotlib 2.1 and will be removed in 3.1. Use 'density' instead.\n",
      "  # Remove the CWD from sys.path while we load stuff.\n"
     ]
    },
    {
     "data": {
      "image/png": "[encoded data removed]",
      "text/plain": [
       "<Figure size 432x288 with 1 Axes>"
      ]
     },
     "metadata": {
      "needs_background": "light"
     },
     "output_type": "display_data"
    }
   ],
   "source": [
    "#evaluate 'punct_percent' feature\n",
    "\n",
    "# set bins \n",
    "bins = np.linspace(0,50,40)     # returns 40 evenly spaces numbers(40 bins) between 0 and 50(limiting max percentage of punctuation). \n",
    "                                 \n",
    "# histogram to look at the distribution of our punctuation percentage for spam\n",
    "plt.hist(data[data['label']=='spam']['punct_percent'], bins=bins, alpha=0.5, normed=True, label='spam')   \n",
    "        \n",
    "# histogram to look at the distribution of out punctuation percentage for non-spam\n",
    "plt.hist(data[data['label']=='ham']['punct_percent'], bins=bins, alpha=0.5, normed=True, label='ham')\n",
    "\n",
    "plt.legend(loc='upper left')\n",
    "plt.xlabel('Percentage of punctuations')\n",
    "plt.ylabel('Number of messages')\n",
    "plt.show()"
   ]
  },
  {
   "cell_type": "markdown",
   "metadata": {},
   "source": [
    "> - Thus not a great new feature, but a descent feature and can provide some value to the model, as spam tends to have high number of messages in lower percentage of punctuations but there are more ham messages in later plot(ham has a tail with higher number after 10%),<br>\n",
    "> - *Not a great feature to distunguish ham from spam, but its okay to keep this feature as it will surely add atleast some value to the model*. Out hypothesis becomes correct here.\n",
    "<hr>\n",
    "\n",
    "> #### ***Tranformations***\n",
    "> - **Process that alters each data point in a certain column in a systematic way. (eg., $-x^{2}, \\sqrt{x}$)**<br>\n",
    "> \n",
    "> Now that we have generated new features, we will see wheather either of them might be fit for a transformation."
   ]
  },
  {
   "cell_type": "code",
   "execution_count": 31,
   "metadata": {},
   "outputs": [
    {
     "data": {
      "image/png": "[encoded data removed]",
      "text/plain": [
       "<Figure size 432x288 with 1 Axes>"
      ]
     },
     "metadata": {
      "needs_background": "light"
     },
     "output_type": "display_data"
    }
   ],
   "source": [
    "# plot the new features\n",
    "\n",
    "bins = np.linspace(0,200,40)\n",
    "\n",
    "plt.hist(data['text_body_length'], bins=bins)\n",
    "plt.title('Body length distribution')\n",
    "plt.xlabel('Length of the messages')\n",
    "plt.ylabel('Number of messages')\n",
    "plt.show()"
   ]
  },
  {
   "cell_type": "markdown",
   "metadata": {},
   "source": [
    "> - Here it can be seen that the histograms have ***2 local maximas(high points)***.\n",
    "> - It is quite evident that the `rightmost high` belongs to the **spam messages** and `left` one belong to **ham**.\n",
    "> - There is a considerable distribution between spam and ham. \n",
    "> - Hence, there is `no need of transforming` this feature, we can directly use this feature for training our model."
   ]
  },
  {
   "cell_type": "code",
   "execution_count": 32,
   "metadata": {},
   "outputs": [
    {
     "data": {
      "image/png": "[encoded data removed]",
      "text/plain": [
       "<Figure size 432x288 with 1 Axes>"
      ]
     },
     "metadata": {
      "needs_background": "light"
     },
     "output_type": "display_data"
    }
   ],
   "source": [
    "bins = np.linspace(0,50,40)\n",
    "\n",
    "plt.hist(data['punct_percent'], bins=bins)\n",
    "plt.title('Punctuation percentage distribution')\n",
    "plt.xlabel('Punctuation %')\n",
    "plt.ylabel('Number of messages')\n",
    "plt.show()"
   ]
  },
  {
   "cell_type": "markdown",
   "metadata": {},
   "source": [
    "> - This distribution is fairly ***`skewed`***, and hence a perfect candidate for transformation.\n",
    "> - There is also a tail, thus it has ***`outliers`*** too!\n",
    "> - This type of feature distribution might `generate a biased model`\n",
    "> - Thus we ***Transform*** this new feature.\n",
    "<hr>\n",
    "\n",
    "> #### **Transform the punctuation % feature**\n",
    ">\n",
    "> ### ***`Box-Cox Power Transformation`***\n",
    "> - ***Base form: $y^x$***.   \n",
    ">    - y-> value in an individual cell, \n",
    ">    - x-> exponent with wich you want to pull your distribution]\n",
    "> - example.\n",
    "> <img src='Box-Cox Power Transformation.png'>\n",
    "> - Thus from the above picture you can see that how different power transformation affect our values. Do choose the transformation according to your application. (eg., for a left skewed distribution, log transformation is a good idea to pool the distribution towards its tail)\n",
    "> <hr>\n",
    "\n",
    "> ***Transformation Process***<br>\n",
    "> * Determine what range of exponents to test.\n",
    "> - Apply each transformation to each value of your chosen feature.\n",
    "> - Use some criteria to determine which of the transformations yeild the best distribution. (choose the one which looks like normal distribution - best way to choose!!!)"
   ]
  },
  {
   "cell_type": "code",
   "execution_count": 34,
   "metadata": {},
   "outputs": [
    {
     "data": {
      "image/png": "[encoded data removed]",
      "text/plain": [
       "<Figure size 432x288 with 1 Axes>"
      ]
     },
     "metadata": {
      "needs_background": "light"
     },
     "output_type": "display_data"
    },
    {
     "data": {
      "image/png": "[encoded data removed]",
      "text/plain": [
       "<Figure size 432x288 with 1 Axes>"
      ]
     },
     "metadata": {
      "needs_background": "light"
     },
     "output_type": "display_data"
    },
    {
     "data": {
      "image/png": "[encoded data removed]",
      "text/plain": [
       "<Figure size 432x288 with 1 Axes>"
      ]
     },
     "metadata": {
      "needs_background": "light"
     },
     "output_type": "display_data"
    },
    {
     "data": {
      "image/png": "[encoded data removed]",
      "text/plain": [
       "<Figure size 432x288 with 1 Axes>"
      ]
     },
     "metadata": {
      "needs_background": "light"
     },
     "output_type": "display_data"
    },
    {
     "data": {
      "image/png": "[encoded data removed]",
      "text/plain": [
       "<Figure size 432x288 with 1 Axes>"
      ]
     },
     "metadata": {
      "needs_background": "light"
     },
     "output_type": "display_data"
    }
   ],
   "source": [
    "# transformation process\n",
    "\n",
    "for i in [1,2,3,4,5]:     # looping in through different power exponents\n",
    "    plt.hist((data['punct_percent'])**(1/i), bins=40)\n",
    "    plt.title(f\"Transformation: 1/{i}\")\n",
    "    plt.show()"
   ]
  },
  {
   "cell_type": "markdown",
   "metadata": {},
   "source": [
    "> It is self evident to watch that the `transformations 1/4 and 1/5` are the best ones and we can go forward with any one of them.\n",
    "\n",
    "> Thus Transformations help your model to leverage it to make predictions in a cleaner way."
   ]
  },
  {
   "cell_type": "code",
   "execution_count": null,
   "metadata": {},
   "outputs": [],
   "source": []
  }
 ],
 "metadata": {
  "kernelspec": {
   "display_name": "Python 3",
   "language": "python",
   "name": "python3"
  },
  "language_info": {
   "codemirror_mode": {
    "name": "ipython",
    "version": 3
   },
   "file_extension": ".py",
   "mimetype": "text/x-python",
   "name": "python",
   "nbconvert_exporter": "python",
   "pygments_lexer": "ipython3",
   "version": "3.7.4"
  }
 },
 "nbformat": 4,
 "nbformat_minor": 4
}
